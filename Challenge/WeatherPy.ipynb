{
 "cells": [
  {
   "cell_type": "code",
   "execution_count": 1,
   "id": "d358a798",
   "metadata": {},
   "outputs": [
    {
     "ename": "ModuleNotFoundError",
     "evalue": "No module named 'config'",
     "output_type": "error",
     "traceback": [
      "\u001b[1;31m---------------------------------------------------------------------------\u001b[0m",
      "\u001b[1;31mModuleNotFoundError\u001b[0m                       Traceback (most recent call last)",
      "\u001b[1;32m~\\AppData\\Local\\Temp/ipykernel_22852/3086392817.py\u001b[0m in \u001b[0;36m<module>\u001b[1;34m\u001b[0m\n\u001b[0;32m      9\u001b[0m \u001b[1;33m\u001b[0m\u001b[0m\n\u001b[0;32m     10\u001b[0m \u001b[1;31m# Import the API Key\u001b[0m\u001b[1;33m\u001b[0m\u001b[1;33m\u001b[0m\u001b[0m\n\u001b[1;32m---> 11\u001b[1;33m \u001b[1;32mfrom\u001b[0m \u001b[0mconfig\u001b[0m \u001b[1;32mimport\u001b[0m \u001b[0mweather_api_key\u001b[0m\u001b[1;33m\u001b[0m\u001b[1;33m\u001b[0m\u001b[0m\n\u001b[0m\u001b[0;32m     12\u001b[0m \u001b[1;33m\u001b[0m\u001b[0m\n\u001b[0;32m     13\u001b[0m \u001b[1;31m# Import the datetime module fome datetime library\u001b[0m\u001b[1;33m\u001b[0m\u001b[1;33m\u001b[0m\u001b[0m\n",
      "\u001b[1;31mModuleNotFoundError\u001b[0m: No module named 'config'"
     ]
    }
   ],
   "source": [
    "# Import the dependencies\n",
    "import pandas as pd\n",
    "import matplotlib.pyplot as plt\n",
    "import numpy as np\n",
    "from citipy import citipy\n",
    "\n",
    "# Import the requests library\n",
    "import requests\n",
    "\n",
    "# Import the API Key\n",
    "from config import weather_api_key\n",
    "\n",
    "# Import the datetime module fome datetime library\n",
    "from datetime import datetime"
   ]
  },
  {
   "cell_type": "code",
   "execution_count": null,
   "id": "1e697158",
   "metadata": {},
   "outputs": [],
   "source": [
    "# Create a set of random lat and long combos\n",
    "lats= np.random.uniform(low= -90.000, high= 90.000, size= 1500)\n",
    "lngs= np.random.uniform(low=-180.000, high= 180.000, size= 1500)\n",
    "\n",
    "#Unpack lats_lngs zip objet into a list\n",
    "lat_lngs=zip(lats,lngs)\n",
    "lat_lngs"
   ]
  },
  {
   "cell_type": "code",
   "execution_count": null,
   "id": "b5e0677b",
   "metadata": {},
   "outputs": [],
   "source": [
    "# Add the lats and long\n",
    "coordinates= list(lat_lngs)\n",
    "print(coordinates)"
   ]
  },
  {
   "cell_type": "code",
   "execution_count": null,
   "id": "da169307",
   "metadata": {},
   "outputs": [],
   "source": [
    "# Create a list for holding the cities\n",
    "cities=[]\n",
    "# Identify the nearest city for each lat and lng combo\n",
    "for coordinate in coordinates:\n",
    "    city= citipy.nearest_city(coordinate[0], coordinate[1]).city_name\n",
    "\n",
    "    # If the city is unique, then add it to the list\n",
    "    if city not in cities:\n",
    "        cities.append(city)\n",
    "# Print the city count \n",
    "len(cities)"
   ]
  },
  {
   "cell_type": "code",
   "execution_count": null,
   "id": "55f5154f",
   "metadata": {},
   "outputs": [],
   "source": [
    "url= \"http://api.openweathermap.org/data/2.5/weather?units=Imperial&APPID=\" + weather_api_key\n",
    "print(url)"
   ]
  },
  {
   "cell_type": "code",
   "execution_count": null,
   "id": "2d2c884c",
   "metadata": {},
   "outputs": [],
   "source": [
    "# Create an empty list to hold the weather data\n",
    "city_date=[]\n",
    "# Print the beginning of the logging\n",
    "print(\"Beginning Data Retreival\")\n",
    "print(\"------------------------\")\n",
    "\n",
    "#Create counterws\n",
    "record_count=1\n",
    "set_count=1\n"
   ]
  },
  {
   "cell_type": "code",
   "execution_count": null,
   "id": "3ffbd666",
   "metadata": {},
   "outputs": [],
   "source": [
    "# Loop through all the cities in list\n",
    "for i in range(len(cities)):\n",
    "    #Group cities in sets of 50 \n",
    "    if (i % 50 ==0 and 1>= 50):\n",
    "        set_count +=1\n",
    "        record_count= 1\n",
    "    # Create endpoint url with each city\n",
    "    city_url= url + \"&q=\" + cities[i]"
   ]
  },
  {
   "cell_type": "code",
   "execution_count": null,
   "id": "9aee2e01",
   "metadata": {},
   "outputs": [],
   "source": [
    "cities"
   ]
  },
  {
   "cell_type": "code",
   "execution_count": null,
   "id": "42db9278",
   "metadata": {},
   "outputs": [],
   "source": [
    "# Loop through all the cities in the list\n",
    "for i, city in enumerate(cities):\n",
    "    # Group cities in set of 50\n",
    "    if(i % 50 == 0 and i >= 50):\n",
    "        set_count+=1\n",
    "        record_count=1\n",
    "    # Create endpoint URL with each city\n",
    "    city_url= url + \"&q=\" + city.replace(\"\",\"+\")\n",
    "\n",
    "    # Log the URL, record and set numbers and the city\n",
    "    print(f\"Processing Record {record_count} of Set {set_count}| {city}\")\n",
    "    # Add 1 to the record count\n",
    "    record_count+=1\n",
    "    # Run an API request for each of the cities\n",
    "    try:\n",
    "        # Parse the JSON and retreive data\n",
    "        city_weather=requests.get(city_url).json()\n",
    "        # Parse out the needed data\n",
    "        city_lat=city_weather[\"coord\"][\"lat\"]\n",
    "        city_lng=city_weather[\"coord\"][\"lon\"]\n",
    "        city_max_temp=city_weather[\"main\"][\"temp_max\"]\n",
    "        city_humidity=city_weather[\"main\"][\"humidity\"]\n",
    "        city_clouds=city_weather[\"clouds\"][\"all\"]\n",
    "        city_wind=city_weather[\"wind\"][\"speed\"]\n",
    "        city_country=city_weather[\"sys\"][\"country\"]\n",
    "\n",
    "        # Conver the date to ISO standard\n",
    "        city_date= datetime.utcfromtimestamp(city_weather[\"dt\"]).strftime('%Y=%m=%d %H:%M:%S')\n",
    "        # Append the city information into city_data list\n",
    "        city_data.append({\"City\": city.title(),\n",
    "                        \"Lat\": city_lat,\n",
    "                        \"Lng\": city_lng,\n",
    "                        \"Max Temp\": city_max_temp,\n",
    "                        \"Humidity\": city_humidity,\n",
    "                        \"Cloudiness\": city_clouds,\n",
    "                        \"Wind Speed\": city_wind,\n",
    "                        \"Country\": city_country,\n",
    "                        \"Date\": city_date})\n",
    "    # If an error happens, skip the city\n",
    "    except: \n",
    "        print(\"City not found. Skipping...\")\n",
    "        pass\n",
    "    # Indicate that Data Loading is complete\n",
    "    print(\"------------------------------\")\n",
    "    print(\"Data Retrieval Complete       \")\n",
    "    print(\"------------------------------\")"
   ]
  }
 ],
 "metadata": {
  "interpreter": {
   "hash": "b89abcd97d3e113da8090a5bd1173afca521bf7214e981a66cd53b2441750495"
  },
  "kernelspec": {
   "display_name": "Python 3 (ipykernel)",
   "language": "python",
   "name": "python3"
  },
  "language_info": {
   "codemirror_mode": {
    "name": "ipython",
    "version": 3
   },
   "file_extension": ".py",
   "mimetype": "text/x-python",
   "name": "python",
   "nbconvert_exporter": "python",
   "pygments_lexer": "ipython3",
   "version": "3.9.7"
  }
 },
 "nbformat": 4,
 "nbformat_minor": 5
}
